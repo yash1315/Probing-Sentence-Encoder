{
 "cells": [
  {
   "cell_type": "code",
   "execution_count": null,
   "metadata": {},
   "outputs": [
    {
     "ename": "",
     "evalue": "",
     "output_type": "error",
     "traceback": [
      "\u001b[1;31mRunning cells with 'Python 3.7.8 64-bit' requires ipykernel package.\n",
      "Run the following command to install 'ipykernel' into the Python environment. \n",
      "Command: '\"c:/Program Files (x86)/Microsoft Visual Studio/Shared/Python37_64/python.exe\" -m pip install ipykernel -U --user --force-reinstall'"
     ]
    }
   ],
   "source": [
    "import pandas as pd\n",
    "# from word_replacer import *\n"
   ]
  },
  {
   "cell_type": "code",
   "execution_count": null,
   "metadata": {},
   "outputs": [
    {
     "ename": "",
     "evalue": "",
     "output_type": "error",
     "traceback": [
      "\u001b[1;31mRunning cells with 'Python 3.7.8 64-bit' requires ipykernel package.\n",
      "Run the following command to install 'ipykernel' into the Python environment. \n",
      "Command: '\"c:/Program Files (x86)/Microsoft Visual Studio/Shared/Python37_64/python.exe\" -m pip install ipykernel -U --user --force-reinstall'"
     ]
    }
   ],
   "source": [
    "data = pd.read_csv(r\"Final\\mrpc.csv\"\")"
   ]
  },
  {
   "cell_type": "code",
   "execution_count": 41,
   "metadata": {},
   "outputs": [],
   "source": [
    "syn_data_mrpc=pd.DataFrame(columns=[\"Sentence\",\"Syn_Sentence-1\",\"Syn_Sentence-2\",\"Syn_Sentence-3\"])\n",
    "syn_data_mrpc[\"Sentence\"] = data.sentence1.sample(3500)\n"
   ]
  },
  {
   "cell_type": "code",
   "execution_count": 29,
   "metadata": {},
   "outputs": [],
   "source": [
    "replace = WordReplacer()"
   ]
  },
  {
   "cell_type": "code",
   "execution_count": 30,
   "metadata": {},
   "outputs": [
    {
     "data": {
      "text/plain": [
       "['ill', 'evil', 'evilness', 'bad', 'badness']"
      ]
     },
     "execution_count": 30,
     "metadata": {},
     "output_type": "execute_result"
    }
   ],
   "source": [
    "replace.get_antonyms(\"good\")"
   ]
  },
  {
   "cell_type": "code",
   "execution_count": 40,
   "metadata": {},
   "outputs": [
    {
     "name": "stdout",
     "output_type": "stream",
     "text": [
      "Advantages and dis advantages of commerce?\n"
     ]
    },
    {
     "data": {
      "text/plain": [
       "'vantage and dis advantages of commerce?'"
      ]
     },
     "execution_count": 40,
     "metadata": {},
     "output_type": "execute_result"
    }
   ],
   "source": [
    "x = syn_data_mrpc.Sentence.iloc[1:2].values[0]\n",
    "print(x)\n",
    "replace.sentence_replacement(x,1,'synonyms')"
   ]
  },
  {
   "cell_type": "code",
   "execution_count": 12,
   "metadata": {},
   "outputs": [],
   "source": [
    "syn_data_mrpc[\"Syn_Sentence-1\"]= [replace.sentence_replacement(i,1,\"synonyms\") for i in syn_data_mrpc.Sentence]\n",
    "syn_data_mrpc[\"Syn_Sentence-2\"]= [replace.sentence_replacement(i,2,\"synonyms\") for i in syn_data_mrpc.Sentence]\n",
    "syn_data_mrpc[\"Syn_Sentence-3\"]= [replace.sentence_replacement(i,3,\"synonyms\") for i in syn_data_mrpc.Sentence]\n"
   ]
  },
  {
   "cell_type": "code",
   "execution_count": 17,
   "metadata": {},
   "outputs": [],
   "source": [
    "# syn_data_mrpc.to_csv(r\"Final\\generated_data\\mrpc_syn_dataset.csv\")"
   ]
  },
  {
   "cell_type": "markdown",
   "metadata": {},
   "source": [
    "# Antonyms"
   ]
  },
  {
   "cell_type": "code",
   "execution_count": 17,
   "metadata": {},
   "outputs": [],
   "source": [
    "anto_data_mprc = pd.DataFrame(data={\"Sentence\":syn_data_mrpc[\"Sentence\"]},columns=[\"Sentence\",\"anto_Sentence-1\",\"anto_Sentence-2\",\"anto_Sentence-3\"])"
   ]
  },
  {
   "cell_type": "code",
   "execution_count": 20,
   "metadata": {},
   "outputs": [],
   "source": [
    "anto_data_mrpc[\"anto_Sentence-1\"]= [replace.sentence_replacement(i,1,\"antonyms\") for i in anto_data_mrpc.Sentence]\n",
    "anto_data_mrpc[\"anto_Sentence-2\"]= [replace.sentence_replacement(i,2,\"antonyms\") for i in anto_data_mrpc.Sentence]\n",
    "anto_data_mrpc[\"anto_Sentence-3\"]= [replace.sentence_replacement(i,3,\"antonyms\") for i in anto_data_mrpc.Sentence]"
   ]
  },
  {
   "cell_type": "code",
   "execution_count": 22,
   "metadata": {},
   "outputs": [],
   "source": [
    "#saving the generated data\n",
    "anto_data_qqp.to_csv(r\"Final\\generated_data\\QQp_anto_dataset.csv\")"
   ]
  },
  {
   "cell_type": "markdown",
   "metadata": {},
   "source": [
    "# Jumbling Words"
   ]
  },
  {
   "cell_type": "code",
   "execution_count": 43,
   "metadata": {},
   "outputs": [],
   "source": [
    "jumb_data_mrpc=pd.DataFrame(data={\"Sentence\":syn_data_mrpc[\"Sentence\"]},columns=[\"Sentence\",\"jumb_Sentence-1\",\"jumb_Sentence-2\",\"jumb_Sentence-3\"])"
   ]
  },
  {
   "cell_type": "code",
   "execution_count": 44,
   "metadata": {},
   "outputs": [],
   "source": [
    "jumbler = WordSwapping()"
   ]
  },
  {
   "cell_type": "code",
   "execution_count": 45,
   "metadata": {},
   "outputs": [],
   "source": [
    "jumb_data_mrpc[\"jumb_Sentence-1\"]= [jumbler.random_swap(i,1) for i in jumb_data_mrpc.Sentence]\n",
    "jumb_data_mrpc[\"jumb_Sentence-2\"]= [jumbler.random_swap(i,2) for i in jumb_data_mrpc.Sentence]\n",
    "jumb_data_mrpc[\"jumb_Sentence-3\"]= [jumbler.random_swap(i,3) for i in jumb_data_mrpc.Sentence]"
   ]
  },
  {
   "cell_type": "code",
   "execution_count": 47,
   "metadata": {},
   "outputs": [],
   "source": [
    "jumb_data_qqp.to_csv(r\"Final\\generated_data\\QQp_jumbled_dataset.csv\")"
   ]
  },
  {
   "cell_type": "code",
   "execution_count": null,
   "metadata": {},
   "outputs": [],
   "source": []
  }
 ],
 "metadata": {
  "kernelspec": {
   "display_name": "Python 3.7.8 64-bit",
   "language": "python",
   "name": "python3"
  },
  "language_info": {
   "codemirror_mode": {
    "name": "ipython",
    "version": 3
   },
   "file_extension": ".py",
   "mimetype": "text/x-python",
   "name": "python",
   "nbconvert_exporter": "python",
   "pygments_lexer": "ipython3",
   "version": "3.7.8"
  },
  "orig_nbformat": 4,
  "vscode": {
   "interpreter": {
    "hash": "0a54084e6b208ee8d1ce3989ffc20924477a5f55f5a43e22e699a6741623861e"
   }
  }
 },
 "nbformat": 4,
 "nbformat_minor": 2
}
