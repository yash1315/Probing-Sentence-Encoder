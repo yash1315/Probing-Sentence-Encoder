{
 "cells": [
  {
   "cell_type": "code",
   "execution_count": null,
   "metadata": {},
   "outputs": [],
   "source": [
    "import pandas as pd\n",
    "from word_replacer import *\n"
   ]
  },
  {
   "cell_type": "markdown",
   "metadata": {},
   "source": [
    "# Loading PAWS_WIKI Datasets"
   ]
  },
  {
   "cell_type": "code",
   "execution_count": 3,
   "metadata": {},
   "outputs": [],
   "source": [
    "data = pd.read_csv(r\"Final\\paws_wiki.tsv\",sep=\"\\t\")"
   ]
  },
  {
   "cell_type": "code",
   "execution_count": 4,
   "metadata": {},
   "outputs": [
    {
     "data": {
      "text/html": [
       "<div>\n",
       "<style scoped>\n",
       "    .dataframe tbody tr th:only-of-type {\n",
       "        vertical-align: middle;\n",
       "    }\n",
       "\n",
       "    .dataframe tbody tr th {\n",
       "        vertical-align: top;\n",
       "    }\n",
       "\n",
       "    .dataframe thead th {\n",
       "        text-align: right;\n",
       "    }\n",
       "</style>\n",
       "<table border=\"1\" class=\"dataframe\">\n",
       "  <thead>\n",
       "    <tr style=\"text-align: right;\">\n",
       "      <th></th>\n",
       "      <th>id</th>\n",
       "      <th>sentence1</th>\n",
       "      <th>sentence2</th>\n",
       "      <th>label</th>\n",
       "    </tr>\n",
       "  </thead>\n",
       "  <tbody>\n",
       "    <tr>\n",
       "      <th>0</th>\n",
       "      <td>1</td>\n",
       "      <td>In Paris , in October 1560 , he secretly met t...</td>\n",
       "      <td>In October 1560 , he secretly met with the Eng...</td>\n",
       "      <td>0</td>\n",
       "    </tr>\n",
       "    <tr>\n",
       "      <th>1</th>\n",
       "      <td>2</td>\n",
       "      <td>The NBA season of 1975 -- 76 was the 30th seas...</td>\n",
       "      <td>The 1975 -- 76 season of the National Basketba...</td>\n",
       "      <td>1</td>\n",
       "    </tr>\n",
       "    <tr>\n",
       "      <th>2</th>\n",
       "      <td>3</td>\n",
       "      <td>There are also specific discussions , public p...</td>\n",
       "      <td>There are also public discussions , profile sp...</td>\n",
       "      <td>0</td>\n",
       "    </tr>\n",
       "    <tr>\n",
       "      <th>3</th>\n",
       "      <td>4</td>\n",
       "      <td>When comparable rates of flow can be maintaine...</td>\n",
       "      <td>The results are high when comparable flow rate...</td>\n",
       "      <td>1</td>\n",
       "    </tr>\n",
       "    <tr>\n",
       "      <th>4</th>\n",
       "      <td>5</td>\n",
       "      <td>It is the seat of Zerendi District in Akmola R...</td>\n",
       "      <td>It is the seat of the district of Zerendi in A...</td>\n",
       "      <td>1</td>\n",
       "    </tr>\n",
       "  </tbody>\n",
       "</table>\n",
       "</div>"
      ],
      "text/plain": [
       "   id                                          sentence1  \\\n",
       "0   1  In Paris , in October 1560 , he secretly met t...   \n",
       "1   2  The NBA season of 1975 -- 76 was the 30th seas...   \n",
       "2   3  There are also specific discussions , public p...   \n",
       "3   4  When comparable rates of flow can be maintaine...   \n",
       "4   5  It is the seat of Zerendi District in Akmola R...   \n",
       "\n",
       "                                           sentence2  label  \n",
       "0  In October 1560 , he secretly met with the Eng...      0  \n",
       "1  The 1975 -- 76 season of the National Basketba...      1  \n",
       "2  There are also public discussions , profile sp...      0  \n",
       "3  The results are high when comparable flow rate...      1  \n",
       "4  It is the seat of the district of Zerendi in A...      1  "
      ]
     },
     "execution_count": 4,
     "metadata": {},
     "output_type": "execute_result"
    }
   ],
   "source": [
    "data.head()"
   ]
  },
  {
   "cell_type": "code",
   "execution_count": 5,
   "metadata": {},
   "outputs": [],
   "source": [
    "#creating dataframe to collected generated synonyms sentence perturbation\n",
    "syn_data_wiki=pd.DataFrame(columns=[\"Sentence\",\"Syn_Sentence-1\",\"Syn_Sentence-2\",\"Syn_Sentence-3\"])\n",
    "syn_data_wiki[\"Sentence\"] = data.sentence1.sample(3500)"
   ]
  },
  {
   "cell_type": "code",
   "execution_count": 9,
   "metadata": {},
   "outputs": [
    {
     "data": {
      "text/plain": [
       "['ill', 'badness', 'evil', 'bad', 'evilness']"
      ]
     },
     "execution_count": 9,
     "metadata": {},
     "output_type": "execute_result"
    }
   ],
   "source": [
    "\n",
    "replace = WordReplacer()\n",
    "\n",
    "# an example to demonstrate the working of word replacer file. \n",
    "replace.get_antonyms(\"good\")"
   ]
  },
  {
   "cell_type": "code",
   "execution_count": 10,
   "metadata": {},
   "outputs": [],
   "source": [
    "# Generating the synonyms sentence \n",
    "syn_data_wiki[\"Syn_Sentence-1\"]= [replace.sentence_replacement(i,1,\"synonyms\") for i in syn_data_wiki.Sentence]\n",
    "syn_data_wiki[\"Syn_Sentence-2\"]= [replace.sentence_replacement(i,2,\"synonyms\") for i in syn_data_wiki.Sentence]\n",
    "syn_data_wiki[\"Syn_Sentence-3\"]= [replace.sentence_replacement(i,3,\"synonyms\") for i in syn_data_wiki.Sentence]\n"
   ]
  },
  {
   "cell_type": "code",
   "execution_count": 11,
   "metadata": {},
   "outputs": [
    {
     "data": {
      "text/html": [
       "<div>\n",
       "<style scoped>\n",
       "    .dataframe tbody tr th:only-of-type {\n",
       "        vertical-align: middle;\n",
       "    }\n",
       "\n",
       "    .dataframe tbody tr th {\n",
       "        vertical-align: top;\n",
       "    }\n",
       "\n",
       "    .dataframe thead th {\n",
       "        text-align: right;\n",
       "    }\n",
       "</style>\n",
       "<table border=\"1\" class=\"dataframe\">\n",
       "  <thead>\n",
       "    <tr style=\"text-align: right;\">\n",
       "      <th></th>\n",
       "      <th>Sentence</th>\n",
       "      <th>Syn_Sentence-1</th>\n",
       "      <th>Syn_Sentence-2</th>\n",
       "      <th>Syn_Sentence-3</th>\n",
       "    </tr>\n",
       "  </thead>\n",
       "  <tbody>\n",
       "    <tr>\n",
       "      <th>46921</th>\n",
       "      <td>Scurria plana is a species of sea snail , a tr...</td>\n",
       "      <td>Scurria plana is a coinage of sea snail , a tr...</td>\n",
       "      <td>Scurria plana is a species of sea snail , a tr...</td>\n",
       "      <td>Scurria plana is a mintage of sea snail , a tr...</td>\n",
       "    </tr>\n",
       "    <tr>\n",
       "      <th>48525</th>\n",
       "      <td>Sara Varga ( born April 14 , 1982 ) , professi...</td>\n",
       "      <td>Sara Varga ( born April xiv , 1982 ) , profess...</td>\n",
       "      <td>Sara Varga ( born April 14 , 1982 ) , professi...</td>\n",
       "      <td>Sara Varga ( born April 14 , 1982 ) , professi...</td>\n",
       "    </tr>\n",
       "    <tr>\n",
       "      <th>1152</th>\n",
       "      <td>Several streets are named after him , includin...</td>\n",
       "      <td>Several street are named after him , including...</td>\n",
       "      <td>several street are named after him , including...</td>\n",
       "      <td>Several street are named after him , including...</td>\n",
       "    </tr>\n",
       "    <tr>\n",
       "      <th>42719</th>\n",
       "      <td>Amata leucacma is a type of moth of the family...</td>\n",
       "      <td>Amata leucacma is a type of moth of the house ...</td>\n",
       "      <td>Amata leucacma is a type of moth of the family...</td>\n",
       "      <td>Amata leucacma is a type of moth of the family...</td>\n",
       "    </tr>\n",
       "    <tr>\n",
       "      <th>30378</th>\n",
       "      <td>In 2012 he began working on the new 52 series ...</td>\n",
       "      <td>inward 2012 he began working on the new 52 ser...</td>\n",
       "      <td>In 2012 he began form on the new 52 serial pub...</td>\n",
       "      <td>In 2012 he get down working on the new lii ser...</td>\n",
       "    </tr>\n",
       "  </tbody>\n",
       "</table>\n",
       "</div>"
      ],
      "text/plain": [
       "                                                Sentence  \\\n",
       "46921  Scurria plana is a species of sea snail , a tr...   \n",
       "48525  Sara Varga ( born April 14 , 1982 ) , professi...   \n",
       "1152   Several streets are named after him , includin...   \n",
       "42719  Amata leucacma is a type of moth of the family...   \n",
       "30378  In 2012 he began working on the new 52 series ...   \n",
       "\n",
       "                                          Syn_Sentence-1  \\\n",
       "46921  Scurria plana is a coinage of sea snail , a tr...   \n",
       "48525  Sara Varga ( born April xiv , 1982 ) , profess...   \n",
       "1152   Several street are named after him , including...   \n",
       "42719  Amata leucacma is a type of moth of the house ...   \n",
       "30378  inward 2012 he began working on the new 52 ser...   \n",
       "\n",
       "                                          Syn_Sentence-2  \\\n",
       "46921  Scurria plana is a species of sea snail , a tr...   \n",
       "48525  Sara Varga ( born April 14 , 1982 ) , professi...   \n",
       "1152   several street are named after him , including...   \n",
       "42719  Amata leucacma is a type of moth of the family...   \n",
       "30378  In 2012 he began form on the new 52 serial pub...   \n",
       "\n",
       "                                          Syn_Sentence-3  \n",
       "46921  Scurria plana is a mintage of sea snail , a tr...  \n",
       "48525  Sara Varga ( born April 14 , 1982 ) , professi...  \n",
       "1152   Several street are named after him , including...  \n",
       "42719  Amata leucacma is a type of moth of the family...  \n",
       "30378  In 2012 he get down working on the new lii ser...  "
      ]
     },
     "execution_count": 11,
     "metadata": {},
     "output_type": "execute_result"
    }
   ],
   "source": [
    "syn_data_wiki.head()"
   ]
  },
  {
   "cell_type": "code",
   "execution_count": 12,
   "metadata": {},
   "outputs": [],
   "source": [
    "# syn_data_wiki.to_csv(r\"Final\\generated_data\\paws_syn_dataset.csv\")"
   ]
  },
  {
   "cell_type": "markdown",
   "metadata": {},
   "source": [
    "# Antonyms"
   ]
  },
  {
   "cell_type": "code",
   "execution_count": 15,
   "metadata": {},
   "outputs": [],
   "source": [
    "anto_data_wiki = pd.DataFrame(data={\"Sentence\":syn_data_wiki[\"Sentence\"]},columns=[\"Sentence\",\"anto_Sentence-1\",\"anto_Sentence-2\",\"anto_Sentence-3\"])"
   ]
  },
  {
   "cell_type": "code",
   "execution_count": 17,
   "metadata": {},
   "outputs": [],
   "source": [
    "anto_data_wiki[\"anto_Sentence-1\"]= [replace.sentence_replacement(i,1,\"antonyms\") for i in anto_data_wiki.Sentence]\n",
    "anto_data_wiki[\"anto_Sentence-2\"]= [replace.sentence_replacement(i,2,\"antonyms\") for i in anto_data_wiki.Sentence]\n",
    "anto_data_wiki[\"anto_Sentence-3\"]= [replace.sentence_replacement(i,3,\"antonyms\") for i in anto_data_wiki.Sentence]"
   ]
  },
  {
   "cell_type": "code",
   "execution_count": 18,
   "metadata": {},
   "outputs": [
    {
     "data": {
      "text/html": [
       "<div>\n",
       "<style scoped>\n",
       "    .dataframe tbody tr th:only-of-type {\n",
       "        vertical-align: middle;\n",
       "    }\n",
       "\n",
       "    .dataframe tbody tr th {\n",
       "        vertical-align: top;\n",
       "    }\n",
       "\n",
       "    .dataframe thead th {\n",
       "        text-align: right;\n",
       "    }\n",
       "</style>\n",
       "<table border=\"1\" class=\"dataframe\">\n",
       "  <thead>\n",
       "    <tr style=\"text-align: right;\">\n",
       "      <th></th>\n",
       "      <th>Sentence</th>\n",
       "      <th>anto_Sentence-1</th>\n",
       "      <th>anto_Sentence-2</th>\n",
       "      <th>anto_Sentence-3</th>\n",
       "    </tr>\n",
       "  </thead>\n",
       "  <tbody>\n",
       "    <tr>\n",
       "      <th>46921</th>\n",
       "      <td>Scurria plana is a species of sea snail , a tr...</td>\n",
       "      <td>Scurria plana is a species of sea snail , a fa...</td>\n",
       "      <td>Scurria plana is a species of sea snail , a un...</td>\n",
       "      <td>Scurria plana is a species of sea snail , a fa...</td>\n",
       "    </tr>\n",
       "    <tr>\n",
       "      <th>48525</th>\n",
       "      <td>Sara Varga ( born April 14 , 1982 ) , professi...</td>\n",
       "      <td>Sara Varga ( unborn April 14 , 1982 ) , profes...</td>\n",
       "      <td>Sara Varga ( unborn April 14 , 1982 ) , profes...</td>\n",
       "      <td>Sara Varga ( unborn April 14 , 1982 ) , profes...</td>\n",
       "    </tr>\n",
       "    <tr>\n",
       "      <th>1152</th>\n",
       "      <td>Several streets are named after him , includin...</td>\n",
       "      <td>Several streets are named after him , exclude ...</td>\n",
       "      <td>Several streets are named after him , exclude ...</td>\n",
       "      <td>Several streets are named after him , exclude ...</td>\n",
       "    </tr>\n",
       "    <tr>\n",
       "      <th>42719</th>\n",
       "      <td>Amata leucacma is a type of moth of the family...</td>\n",
       "      <td>Amata leucacma is a type of moth of the family...</td>\n",
       "      <td>Amata leucacma is a antitype of moth of the fa...</td>\n",
       "      <td>Amata leucacma is a antitype of moth of the fa...</td>\n",
       "    </tr>\n",
       "    <tr>\n",
       "      <th>30378</th>\n",
       "      <td>In 2012 he began working on the new 52 series ...</td>\n",
       "      <td>In 2012 he began malfunction on the new 52 ser...</td>\n",
       "      <td>In 2012 he end working on the worn 52 series '...</td>\n",
       "      <td>In 2012 he end idle on the old 52 series '' Ba...</td>\n",
       "    </tr>\n",
       "  </tbody>\n",
       "</table>\n",
       "</div>"
      ],
      "text/plain": [
       "                                                Sentence  \\\n",
       "46921  Scurria plana is a species of sea snail , a tr...   \n",
       "48525  Sara Varga ( born April 14 , 1982 ) , professi...   \n",
       "1152   Several streets are named after him , includin...   \n",
       "42719  Amata leucacma is a type of moth of the family...   \n",
       "30378  In 2012 he began working on the new 52 series ...   \n",
       "\n",
       "                                         anto_Sentence-1  \\\n",
       "46921  Scurria plana is a species of sea snail , a fa...   \n",
       "48525  Sara Varga ( unborn April 14 , 1982 ) , profes...   \n",
       "1152   Several streets are named after him , exclude ...   \n",
       "42719  Amata leucacma is a type of moth of the family...   \n",
       "30378  In 2012 he began malfunction on the new 52 ser...   \n",
       "\n",
       "                                         anto_Sentence-2  \\\n",
       "46921  Scurria plana is a species of sea snail , a un...   \n",
       "48525  Sara Varga ( unborn April 14 , 1982 ) , profes...   \n",
       "1152   Several streets are named after him , exclude ...   \n",
       "42719  Amata leucacma is a antitype of moth of the fa...   \n",
       "30378  In 2012 he end working on the worn 52 series '...   \n",
       "\n",
       "                                         anto_Sentence-3  \n",
       "46921  Scurria plana is a species of sea snail , a fa...  \n",
       "48525  Sara Varga ( unborn April 14 , 1982 ) , profes...  \n",
       "1152   Several streets are named after him , exclude ...  \n",
       "42719  Amata leucacma is a antitype of moth of the fa...  \n",
       "30378  In 2012 he end idle on the old 52 series '' Ba...  "
      ]
     },
     "execution_count": 18,
     "metadata": {},
     "output_type": "execute_result"
    }
   ],
   "source": [
    "anto_data_wiki.head()"
   ]
  },
  {
   "cell_type": "code",
   "execution_count": 19,
   "metadata": {},
   "outputs": [],
   "source": [
    "anto_data_wiki.to_csv(r\"Final\\generated_data\\wiki_anto_dataset.csv\")"
   ]
  },
  {
   "cell_type": "markdown",
   "metadata": {},
   "source": [
    "# Jumbling Words"
   ]
  },
  {
   "cell_type": "code",
   "execution_count": 20,
   "metadata": {},
   "outputs": [],
   "source": [
    "jumb_data_wiki=pd.DataFrame(data={\"Sentence\":syn_data_wiki[\"Sentence\"]},columns=[\"Sentence\",\"jumb_Sentence-1\",\"jumb_Sentence-2\",\"jumb_Sentence-3\"])"
   ]
  },
  {
   "cell_type": "code",
   "execution_count": 21,
   "metadata": {},
   "outputs": [],
   "source": [
    "jumbler = WordSwapping()"
   ]
  },
  {
   "cell_type": "code",
   "execution_count": 22,
   "metadata": {},
   "outputs": [],
   "source": [
    "jumb_data_wiki[\"jumb_Sentence-1\"]= [jumbler.random_swap(i,1) for i in jumb_data_wiki.Sentence]\n",
    "jumb_data_wiki[\"jumb_Sentence-2\"]= [jumbler.random_swap(i,2) for i in jumb_data_wiki.Sentence]\n",
    "jumb_data_wiki[\"jumb_Sentence-3\"]= [jumbler.random_swap(i,3) for i in jumb_data_wiki.Sentence]"
   ]
  },
  {
   "cell_type": "code",
   "execution_count": 23,
   "metadata": {},
   "outputs": [
    {
     "data": {
      "text/html": [
       "<div>\n",
       "<style scoped>\n",
       "    .dataframe tbody tr th:only-of-type {\n",
       "        vertical-align: middle;\n",
       "    }\n",
       "\n",
       "    .dataframe tbody tr th {\n",
       "        vertical-align: top;\n",
       "    }\n",
       "\n",
       "    .dataframe thead th {\n",
       "        text-align: right;\n",
       "    }\n",
       "</style>\n",
       "<table border=\"1\" class=\"dataframe\">\n",
       "  <thead>\n",
       "    <tr style=\"text-align: right;\">\n",
       "      <th></th>\n",
       "      <th>Sentence</th>\n",
       "      <th>jumb_Sentence-1</th>\n",
       "      <th>jumb_Sentence-2</th>\n",
       "      <th>jumb_Sentence-3</th>\n",
       "    </tr>\n",
       "  </thead>\n",
       "  <tbody>\n",
       "    <tr>\n",
       "      <th>46921</th>\n",
       "      <td>Scurria plana is a species of sea snail , a tr...</td>\n",
       "      <td>Scurria plana marine a species of sea snail , ...</td>\n",
       "      <td>Scurria plana is a species of sea snail , true...</td>\n",
       "      <td>Scurria plana is the species of sea snail , a ...</td>\n",
       "    </tr>\n",
       "    <tr>\n",
       "      <th>48525</th>\n",
       "      <td>Sara Varga ( born April 14 , 1982 ) , professi...</td>\n",
       "      <td>Sara Varga ( born April 14 , 1982 ) , professi...</td>\n",
       "      <td>Sara Varga ( Sara April 14 , 1982 ) , professi...</td>\n",
       "      <td>Sara Varga ( and April Swedish , 1982 ) , prof...</td>\n",
       "    </tr>\n",
       "    <tr>\n",
       "      <th>1152</th>\n",
       "      <td>Several streets are named after him , includin...</td>\n",
       "      <td>Several streets are named after him the includ...</td>\n",
       "      <td>Several streets are named after him , includin...</td>\n",
       "      <td>streets Several are named after him , includin...</td>\n",
       "    </tr>\n",
       "    <tr>\n",
       "      <th>42719</th>\n",
       "      <td>Amata leucacma is a type of moth of the family...</td>\n",
       "      <td>Amata leucacma is a type of moth of the family...</td>\n",
       "      <td>Amata leucacma is a type of moth of the found ...</td>\n",
       "      <td>Amata leucacma Queensland a type the moth of o...</td>\n",
       "    </tr>\n",
       "    <tr>\n",
       "      <th>30378</th>\n",
       "      <td>In 2012 he began working on the new 52 series ...</td>\n",
       "      <td>In 2012 he began working on the new 52 series ...</td>\n",
       "      <td>In 2012 Batwing began working on the new serie...</td>\n",
       "      <td>In 2012 he began working on the new 52 series ...</td>\n",
       "    </tr>\n",
       "  </tbody>\n",
       "</table>\n",
       "</div>"
      ],
      "text/plain": [
       "                                                Sentence  \\\n",
       "46921  Scurria plana is a species of sea snail , a tr...   \n",
       "48525  Sara Varga ( born April 14 , 1982 ) , professi...   \n",
       "1152   Several streets are named after him , includin...   \n",
       "42719  Amata leucacma is a type of moth of the family...   \n",
       "30378  In 2012 he began working on the new 52 series ...   \n",
       "\n",
       "                                         jumb_Sentence-1  \\\n",
       "46921  Scurria plana marine a species of sea snail , ...   \n",
       "48525  Sara Varga ( born April 14 , 1982 ) , professi...   \n",
       "1152   Several streets are named after him the includ...   \n",
       "42719  Amata leucacma is a type of moth of the family...   \n",
       "30378  In 2012 he began working on the new 52 series ...   \n",
       "\n",
       "                                         jumb_Sentence-2  \\\n",
       "46921  Scurria plana is a species of sea snail , true...   \n",
       "48525  Sara Varga ( Sara April 14 , 1982 ) , professi...   \n",
       "1152   Several streets are named after him , includin...   \n",
       "42719  Amata leucacma is a type of moth of the found ...   \n",
       "30378  In 2012 Batwing began working on the new serie...   \n",
       "\n",
       "                                         jumb_Sentence-3  \n",
       "46921  Scurria plana is the species of sea snail , a ...  \n",
       "48525  Sara Varga ( and April Swedish , 1982 ) , prof...  \n",
       "1152   streets Several are named after him , includin...  \n",
       "42719  Amata leucacma Queensland a type the moth of o...  \n",
       "30378  In 2012 he began working on the new 52 series ...  "
      ]
     },
     "execution_count": 23,
     "metadata": {},
     "output_type": "execute_result"
    }
   ],
   "source": [
    "jumb_data_wiki.head()"
   ]
  },
  {
   "cell_type": "code",
   "execution_count": 82,
   "metadata": {},
   "outputs": [],
   "source": [
    "# anto_data_wiki.to_csv(r\"Final\\generated_data\\wiki_jumbled_dataset.csv\")"
   ]
  },
  {
   "cell_type": "code",
   "execution_count": null,
   "metadata": {},
   "outputs": [],
   "source": []
  }
 ],
 "metadata": {
  "kernelspec": {
   "display_name": "Python 3.6.10 ('py3.6')",
   "language": "python",
   "name": "python3"
  },
  "language_info": {
   "codemirror_mode": {
    "name": "ipython",
    "version": 3
   },
   "file_extension": ".py",
   "mimetype": "text/x-python",
   "name": "python",
   "nbconvert_exporter": "python",
   "pygments_lexer": "ipython3",
   "version": "3.6.10"
  },
  "orig_nbformat": 4,
  "vscode": {
   "interpreter": {
    "hash": "c4000eb3fa259da25be62b6ba07486cc5b8209f2bce96211e8b46c15bc5a4943"
   }
  }
 },
 "nbformat": 4,
 "nbformat_minor": 2
}
