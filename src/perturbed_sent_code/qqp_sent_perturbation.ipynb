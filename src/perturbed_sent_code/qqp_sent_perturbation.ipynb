{
 "cells": [
  {
   "cell_type": "code",
   "execution_count": 23,
   "metadata": {},
   "outputs": [],
   "source": [
    "import pandas as pd\n",
    "from word_replacer import *\n"
   ]
  },
  {
   "cell_type": "code",
   "execution_count": 25,
   "metadata": {},
   "outputs": [],
   "source": [
    "data = pd.read_csv(r\"Final\\qoura.csv\")"
   ]
  },
  {
   "cell_type": "code",
   "execution_count": 26,
   "metadata": {},
   "outputs": [
    {
     "data": {
      "text/html": [
       "<div>\n",
       "<style scoped>\n",
       "    .dataframe tbody tr th:only-of-type {\n",
       "        vertical-align: middle;\n",
       "    }\n",
       "\n",
       "    .dataframe tbody tr th {\n",
       "        vertical-align: top;\n",
       "    }\n",
       "\n",
       "    .dataframe thead th {\n",
       "        text-align: right;\n",
       "    }\n",
       "</style>\n",
       "<table border=\"1\" class=\"dataframe\">\n",
       "  <thead>\n",
       "    <tr style=\"text-align: right;\">\n",
       "      <th></th>\n",
       "      <th>id</th>\n",
       "      <th>qid1</th>\n",
       "      <th>qid2</th>\n",
       "      <th>question1</th>\n",
       "      <th>question2</th>\n",
       "      <th>is_duplicate</th>\n",
       "    </tr>\n",
       "  </thead>\n",
       "  <tbody>\n",
       "    <tr>\n",
       "      <th>0</th>\n",
       "      <td>0</td>\n",
       "      <td>1</td>\n",
       "      <td>2</td>\n",
       "      <td>What is the step by step guide to invest in sh...</td>\n",
       "      <td>What is the step by step guide to invest in sh...</td>\n",
       "      <td>0</td>\n",
       "    </tr>\n",
       "    <tr>\n",
       "      <th>1</th>\n",
       "      <td>1</td>\n",
       "      <td>3</td>\n",
       "      <td>4</td>\n",
       "      <td>What is the story of Kohinoor (Koh-i-Noor) Dia...</td>\n",
       "      <td>What would happen if the Indian government sto...</td>\n",
       "      <td>0</td>\n",
       "    </tr>\n",
       "    <tr>\n",
       "      <th>2</th>\n",
       "      <td>2</td>\n",
       "      <td>5</td>\n",
       "      <td>6</td>\n",
       "      <td>How can I increase the speed of my internet co...</td>\n",
       "      <td>How can Internet speed be increased by hacking...</td>\n",
       "      <td>0</td>\n",
       "    </tr>\n",
       "    <tr>\n",
       "      <th>3</th>\n",
       "      <td>3</td>\n",
       "      <td>7</td>\n",
       "      <td>8</td>\n",
       "      <td>Why am I mentally very lonely? How can I solve...</td>\n",
       "      <td>Find the remainder when [math]23^{24}[/math] i...</td>\n",
       "      <td>0</td>\n",
       "    </tr>\n",
       "    <tr>\n",
       "      <th>4</th>\n",
       "      <td>4</td>\n",
       "      <td>9</td>\n",
       "      <td>10</td>\n",
       "      <td>Which one dissolve in water quikly sugar, salt...</td>\n",
       "      <td>Which fish would survive in salt water?</td>\n",
       "      <td>0</td>\n",
       "    </tr>\n",
       "  </tbody>\n",
       "</table>\n",
       "</div>"
      ],
      "text/plain": [
       "   id  qid1  qid2                                          question1  \\\n",
       "0   0     1     2  What is the step by step guide to invest in sh...   \n",
       "1   1     3     4  What is the story of Kohinoor (Koh-i-Noor) Dia...   \n",
       "2   2     5     6  How can I increase the speed of my internet co...   \n",
       "3   3     7     8  Why am I mentally very lonely? How can I solve...   \n",
       "4   4     9    10  Which one dissolve in water quikly sugar, salt...   \n",
       "\n",
       "                                           question2  is_duplicate  \n",
       "0  What is the step by step guide to invest in sh...             0  \n",
       "1  What would happen if the Indian government sto...             0  \n",
       "2  How can Internet speed be increased by hacking...             0  \n",
       "3  Find the remainder when [math]23^{24}[/math] i...             0  \n",
       "4            Which fish would survive in salt water?             0  "
      ]
     },
     "execution_count": 26,
     "metadata": {},
     "output_type": "execute_result"
    }
   ],
   "source": [
    "data.head()"
   ]
  },
  {
   "cell_type": "code",
   "execution_count": 41,
   "metadata": {},
   "outputs": [],
   "source": [
    "# syn_data_mrpc=pd.DataFrame(columns=[\"Sentence\",\"Syn_Sentence-1\",\"Syn_Sentence-2\",\"Syn_Sentence-3\"])\n",
    "syn_data_qqp=pd.DataFrame(columns=[\"Sentence\",\"Syn_Sentence-1\",\"Syn_Sentence-2\",\"Syn_Sentence-3\"])\n",
    "syn_data_qqp[\"Sentence\"] = data.question1.sample(3500)\n"
   ]
  },
  {
   "cell_type": "code",
   "execution_count": 29,
   "metadata": {},
   "outputs": [],
   "source": [
    "replace = WordReplacer()"
   ]
  },
  {
   "cell_type": "code",
   "execution_count": 30,
   "metadata": {},
   "outputs": [
    {
     "data": {
      "text/plain": [
       "['ill', 'evil', 'evilness', 'bad', 'badness']"
      ]
     },
     "execution_count": 30,
     "metadata": {},
     "output_type": "execute_result"
    }
   ],
   "source": [
    "replace.get_antonyms(\"good\")"
   ]
  },
  {
   "cell_type": "code",
   "execution_count": 40,
   "metadata": {},
   "outputs": [
    {
     "name": "stdout",
     "output_type": "stream",
     "text": [
      "Advantages and dis advantages of commerce?\n"
     ]
    },
    {
     "data": {
      "text/plain": [
       "'vantage and dis advantages of commerce?'"
      ]
     },
     "execution_count": 40,
     "metadata": {},
     "output_type": "execute_result"
    }
   ],
   "source": [
    "x = syn_data_qqp.Sentence.iloc[1:2].values[0]\n",
    "print(x)\n",
    "replace.sentence_replacement(x,1,'synonyms')"
   ]
  },
  {
   "cell_type": "code",
   "execution_count": 12,
   "metadata": {},
   "outputs": [],
   "source": [
    "syn_data_qqp[\"Syn_Sentence-1\"]= [replace.sentence_replacement(i,1,\"synonyms\") for i in syn_data_qqp.Sentence]\n",
    "syn_data_qqp[\"Syn_Sentence-2\"]= [replace.sentence_replacement(i,2,\"synonyms\") for i in syn_data_qqp.Sentence]\n",
    "syn_data_qqp[\"Syn_Sentence-3\"]= [replace.sentence_replacement(i,3,\"synonyms\") for i in syn_data_qqp.Sentence]\n"
   ]
  },
  {
   "cell_type": "code",
   "execution_count": 16,
   "metadata": {},
   "outputs": [
    {
     "data": {
      "text/html": [
       "<div>\n",
       "<style scoped>\n",
       "    .dataframe tbody tr th:only-of-type {\n",
       "        vertical-align: middle;\n",
       "    }\n",
       "\n",
       "    .dataframe tbody tr th {\n",
       "        vertical-align: top;\n",
       "    }\n",
       "\n",
       "    .dataframe thead th {\n",
       "        text-align: right;\n",
       "    }\n",
       "</style>\n",
       "<table border=\"1\" class=\"dataframe\">\n",
       "  <thead>\n",
       "    <tr style=\"text-align: right;\">\n",
       "      <th></th>\n",
       "      <th>Sentence</th>\n",
       "      <th>Syn_Sentence-1</th>\n",
       "      <th>Syn_Sentence-2</th>\n",
       "      <th>Syn_Sentence-3</th>\n",
       "    </tr>\n",
       "  </thead>\n",
       "  <tbody>\n",
       "    <tr>\n",
       "      <th>151993</th>\n",
       "      <td>If there were an Oscar award for \"Best Lyrics ...</td>\n",
       "      <td>If there were an Oscar awarding for \"Best Lyri...</td>\n",
       "      <td>If there were an academy award award for \"Best...</td>\n",
       "      <td>If there were an Oscar award for \"Best languag...</td>\n",
       "    </tr>\n",
       "    <tr>\n",
       "      <th>15280</th>\n",
       "      <td>Who are the users of Quora?</td>\n",
       "      <td>Who are the exploiter of Quora?</td>\n",
       "      <td>who are the exploiter of Quora?</td>\n",
       "      <td>world health organization are the exploiter of...</td>\n",
       "    </tr>\n",
       "    <tr>\n",
       "      <th>238872</th>\n",
       "      <td>How many times has Rémi Gaillard's antics gott...</td>\n",
       "      <td>How many times has Rémi Gaillard's caper gotte...</td>\n",
       "      <td>How many prison term has Rémi Gaillard's joke ...</td>\n",
       "      <td>How many clock time has Rémi Gaillard's put on...</td>\n",
       "    </tr>\n",
       "    <tr>\n",
       "      <th>146714</th>\n",
       "      <td>Why are slot game apps so successful?</td>\n",
       "      <td>Why are slot lame apps so successful?</td>\n",
       "      <td>Why are time slot back apps so successful?</td>\n",
       "      <td>why are one armed bandit plot apps so successful?</td>\n",
       "    </tr>\n",
       "    <tr>\n",
       "      <th>205560</th>\n",
       "      <td>How can I decide my aim for my life?</td>\n",
       "      <td>How can I decide my direct for my life?</td>\n",
       "      <td>How can iodine decide my object for my life?</td>\n",
       "      <td>How can ace make up ones mind my place for my ...</td>\n",
       "    </tr>\n",
       "  </tbody>\n",
       "</table>\n",
       "</div>"
      ],
      "text/plain": [
       "                                                 Sentence  \\\n",
       "151993  If there were an Oscar award for \"Best Lyrics ...   \n",
       "15280                         Who are the users of Quora?   \n",
       "238872  How many times has Rémi Gaillard's antics gott...   \n",
       "146714              Why are slot game apps so successful?   \n",
       "205560               How can I decide my aim for my life?   \n",
       "\n",
       "                                           Syn_Sentence-1  \\\n",
       "151993  If there were an Oscar awarding for \"Best Lyri...   \n",
       "15280                     Who are the exploiter of Quora?   \n",
       "238872  How many times has Rémi Gaillard's caper gotte...   \n",
       "146714              Why are slot lame apps so successful?   \n",
       "205560            How can I decide my direct for my life?   \n",
       "\n",
       "                                           Syn_Sentence-2  \\\n",
       "151993  If there were an academy award award for \"Best...   \n",
       "15280                     who are the exploiter of Quora?   \n",
       "238872  How many prison term has Rémi Gaillard's joke ...   \n",
       "146714         Why are time slot back apps so successful?   \n",
       "205560       How can iodine decide my object for my life?   \n",
       "\n",
       "                                           Syn_Sentence-3  \n",
       "151993  If there were an Oscar award for \"Best languag...  \n",
       "15280   world health organization are the exploiter of...  \n",
       "238872  How many clock time has Rémi Gaillard's put on...  \n",
       "146714  why are one armed bandit plot apps so successful?  \n",
       "205560  How can ace make up ones mind my place for my ...  "
      ]
     },
     "execution_count": 16,
     "metadata": {},
     "output_type": "execute_result"
    }
   ],
   "source": [
    "syn_data_qqp.head()"
   ]
  },
  {
   "cell_type": "code",
   "execution_count": 17,
   "metadata": {},
   "outputs": [],
   "source": [
    "# syn_data_qqp.to_csv(r\"C:\\Users\\lenovo\\OneDrive - Auburn University\\BDI Lab work\\Paraphrase Project\\Results\\Synonyms\\QQp_syn_dataset.csv\")"
   ]
  },
  {
   "cell_type": "markdown",
   "metadata": {},
   "source": [
    "# Antonyms"
   ]
  },
  {
   "cell_type": "code",
   "execution_count": 17,
   "metadata": {},
   "outputs": [],
   "source": [
    "anto_data_qqp = pd.DataFrame(data={\"Sentence\":syn_data_qqp[\"Sentence\"]},columns=[\"Sentence\",\"anto_Sentence-1\",\"anto_Sentence-2\",\"anto_Sentence-3\"])"
   ]
  },
  {
   "cell_type": "code",
   "execution_count": 20,
   "metadata": {},
   "outputs": [],
   "source": [
    "anto_data_qqp[\"anto_Sentence-1\"]= [replace.sentence_replacement(i,1,\"antonyms\") for i in anto_data_qqp.Sentence]\n",
    "anto_data_qqp[\"anto_Sentence-2\"]= [replace.sentence_replacement(i,2,\"antonyms\") for i in anto_data_qqp.Sentence]\n",
    "anto_data_qqp[\"anto_Sentence-3\"]= [replace.sentence_replacement(i,3,\"antonyms\") for i in anto_data_qqp.Sentence]"
   ]
  },
  {
   "cell_type": "code",
   "execution_count": 21,
   "metadata": {},
   "outputs": [
    {
     "data": {
      "text/html": [
       "<div>\n",
       "<style scoped>\n",
       "    .dataframe tbody tr th:only-of-type {\n",
       "        vertical-align: middle;\n",
       "    }\n",
       "\n",
       "    .dataframe tbody tr th {\n",
       "        vertical-align: top;\n",
       "    }\n",
       "\n",
       "    .dataframe thead th {\n",
       "        text-align: right;\n",
       "    }\n",
       "</style>\n",
       "<table border=\"1\" class=\"dataframe\">\n",
       "  <thead>\n",
       "    <tr style=\"text-align: right;\">\n",
       "      <th></th>\n",
       "      <th>Sentence</th>\n",
       "      <th>anto_Sentence-1</th>\n",
       "      <th>anto_Sentence-2</th>\n",
       "      <th>anto_Sentence-3</th>\n",
       "    </tr>\n",
       "  </thead>\n",
       "  <tbody>\n",
       "    <tr>\n",
       "      <th>83097</th>\n",
       "      <td>Why do people still go to the movie theater wh...</td>\n",
       "      <td>Why do people still come to the movie theater ...</td>\n",
       "      <td>Why do people no_longer no-go to the movie the...</td>\n",
       "      <td>Why do people no_longer malfunction to the mov...</td>\n",
       "    </tr>\n",
       "    <tr>\n",
       "      <th>272066</th>\n",
       "      <td>Was Korea ever a colony of China?</td>\n",
       "      <td>Was Korea never a colony of China?</td>\n",
       "      <td>differ Korea never a colony of China?</td>\n",
       "      <td>differ Korea never a colony of China?</td>\n",
       "    </tr>\n",
       "    <tr>\n",
       "      <th>54121</th>\n",
       "      <td>How do theists define God?</td>\n",
       "      <td>How do theists define God?</td>\n",
       "      <td>How do theists define God?</td>\n",
       "      <td>How do theists define God?</td>\n",
       "    </tr>\n",
       "    <tr>\n",
       "      <th>123094</th>\n",
       "      <td>I am 25 working in digital marketing 9 hours a...</td>\n",
       "      <td>I am 25 working in analogue marketing 9 hours ...</td>\n",
       "      <td>I am 25 working in analogue marketing 9 hours ...</td>\n",
       "      <td>I am 25 idle in analogue marketing 9 hours a d...</td>\n",
       "    </tr>\n",
       "    <tr>\n",
       "      <th>335919</th>\n",
       "      <td>What's your New Year resolutions for 2017 and ...</td>\n",
       "      <td>What's your old Year resolutions for 2017 and ...</td>\n",
       "      <td>What's your worn Year irresoluteness for 2017 ...</td>\n",
       "      <td>What's your worn Year irresoluteness for 2017 ...</td>\n",
       "    </tr>\n",
       "  </tbody>\n",
       "</table>\n",
       "</div>"
      ],
      "text/plain": [
       "                                                 Sentence  \\\n",
       "83097   Why do people still go to the movie theater wh...   \n",
       "272066                  Was Korea ever a colony of China?   \n",
       "54121                          How do theists define God?   \n",
       "123094  I am 25 working in digital marketing 9 hours a...   \n",
       "335919  What's your New Year resolutions for 2017 and ...   \n",
       "\n",
       "                                          anto_Sentence-1  \\\n",
       "83097   Why do people still come to the movie theater ...   \n",
       "272066                 Was Korea never a colony of China?   \n",
       "54121                          How do theists define God?   \n",
       "123094  I am 25 working in analogue marketing 9 hours ...   \n",
       "335919  What's your old Year resolutions for 2017 and ...   \n",
       "\n",
       "                                          anto_Sentence-2  \\\n",
       "83097   Why do people no_longer no-go to the movie the...   \n",
       "272066              differ Korea never a colony of China?   \n",
       "54121                          How do theists define God?   \n",
       "123094  I am 25 working in analogue marketing 9 hours ...   \n",
       "335919  What's your worn Year irresoluteness for 2017 ...   \n",
       "\n",
       "                                          anto_Sentence-3  \n",
       "83097   Why do people no_longer malfunction to the mov...  \n",
       "272066              differ Korea never a colony of China?  \n",
       "54121                          How do theists define God?  \n",
       "123094  I am 25 idle in analogue marketing 9 hours a d...  \n",
       "335919  What's your worn Year irresoluteness for 2017 ...  "
      ]
     },
     "execution_count": 21,
     "metadata": {},
     "output_type": "execute_result"
    }
   ],
   "source": [
    "anto_data_qqp.head()"
   ]
  },
  {
   "cell_type": "code",
   "execution_count": 22,
   "metadata": {},
   "outputs": [],
   "source": [
    "anto_data_qqp.to_csv(r\"C:\\Users\\lenovo\\OneDrive - Auburn University\\BDI Lab work\\Paraphrase Project\\Results\\Antonyms\\QQp_anto_dataset.csv\")"
   ]
  },
  {
   "cell_type": "markdown",
   "metadata": {},
   "source": [
    "# Jumbling Words"
   ]
  },
  {
   "cell_type": "code",
   "execution_count": 43,
   "metadata": {},
   "outputs": [],
   "source": [
    "jumb_data_qqp=pd.DataFrame(data={\"Sentence\":syn_data_qqp[\"Sentence\"]},columns=[\"Sentence\",\"jumb_Sentence-1\",\"jumb_Sentence-2\",\"jumb_Sentence-3\"])"
   ]
  },
  {
   "cell_type": "code",
   "execution_count": 44,
   "metadata": {},
   "outputs": [],
   "source": [
    "jumbler = WordSwapping()"
   ]
  },
  {
   "cell_type": "code",
   "execution_count": 45,
   "metadata": {},
   "outputs": [],
   "source": [
    "jumb_data_qqp[\"jumb_Sentence-1\"]= [jumbler.random_swap(i,1) for i in jumb_data_qqp.Sentence]\n",
    "jumb_data_qqp[\"jumb_Sentence-2\"]= [jumbler.random_swap(i,2) for i in jumb_data_qqp.Sentence]\n",
    "jumb_data_qqp[\"jumb_Sentence-3\"]= [jumbler.random_swap(i,3) for i in jumb_data_qqp.Sentence]"
   ]
  },
  {
   "cell_type": "code",
   "execution_count": 46,
   "metadata": {},
   "outputs": [
    {
     "data": {
      "text/html": [
       "<div>\n",
       "<style scoped>\n",
       "    .dataframe tbody tr th:only-of-type {\n",
       "        vertical-align: middle;\n",
       "    }\n",
       "\n",
       "    .dataframe tbody tr th {\n",
       "        vertical-align: top;\n",
       "    }\n",
       "\n",
       "    .dataframe thead th {\n",
       "        text-align: right;\n",
       "    }\n",
       "</style>\n",
       "<table border=\"1\" class=\"dataframe\">\n",
       "  <thead>\n",
       "    <tr style=\"text-align: right;\">\n",
       "      <th></th>\n",
       "      <th>Sentence</th>\n",
       "      <th>jumb_Sentence-1</th>\n",
       "      <th>jumb_Sentence-2</th>\n",
       "      <th>jumb_Sentence-3</th>\n",
       "    </tr>\n",
       "  </thead>\n",
       "  <tbody>\n",
       "    <tr>\n",
       "      <th>224043</th>\n",
       "      <td>Is there a difference between \"native\" mini di...</td>\n",
       "      <td>Is there a difference on \"native\" mini display...</td>\n",
       "      <td>a there Is difference between \"native\" mini di...</td>\n",
       "      <td>Is there a difference mini \"native\" mini betwe...</td>\n",
       "    </tr>\n",
       "    <tr>\n",
       "      <th>383397</th>\n",
       "      <td>Can you still get pregnant one day before mens...</td>\n",
       "      <td>Can pregnant still get you one day before mens...</td>\n",
       "      <td>get you Can still pregnant one day before mens...</td>\n",
       "      <td>Can you still day pregnant one before menstrua...</td>\n",
       "    </tr>\n",
       "    <tr>\n",
       "      <th>332701</th>\n",
       "      <td>How do we really know what the temperature of ...</td>\n",
       "      <td>what do we really know How the temperature of ...</td>\n",
       "      <td>How do really we know of the temperature what ...</td>\n",
       "      <td>How the is? of know what do temperature really...</td>\n",
       "    </tr>\n",
       "    <tr>\n",
       "      <th>350053</th>\n",
       "      <td>What's the best hotel booking site?</td>\n",
       "      <td>best the What's hotel booking site?</td>\n",
       "      <td>hotel the best booking What's site?</td>\n",
       "      <td>best booking What's site? the hotel</td>\n",
       "    </tr>\n",
       "    <tr>\n",
       "      <th>150927</th>\n",
       "      <td>How do I jailbreak my iPhone 5s?</td>\n",
       "      <td>How do iPhone jailbreak my I 5s?</td>\n",
       "      <td>do How I 5s? my iPhone jailbreak</td>\n",
       "      <td>How jailbreak I my iPhone do 5s?</td>\n",
       "    </tr>\n",
       "  </tbody>\n",
       "</table>\n",
       "</div>"
      ],
      "text/plain": [
       "                                                 Sentence  \\\n",
       "224043  Is there a difference between \"native\" mini di...   \n",
       "383397  Can you still get pregnant one day before mens...   \n",
       "332701  How do we really know what the temperature of ...   \n",
       "350053                What's the best hotel booking site?   \n",
       "150927                   How do I jailbreak my iPhone 5s?   \n",
       "\n",
       "                                          jumb_Sentence-1  \\\n",
       "224043  Is there a difference on \"native\" mini display...   \n",
       "383397  Can pregnant still get you one day before mens...   \n",
       "332701  what do we really know How the temperature of ...   \n",
       "350053                best the What's hotel booking site?   \n",
       "150927                   How do iPhone jailbreak my I 5s?   \n",
       "\n",
       "                                          jumb_Sentence-2  \\\n",
       "224043  a there Is difference between \"native\" mini di...   \n",
       "383397  get you Can still pregnant one day before mens...   \n",
       "332701  How do really we know of the temperature what ...   \n",
       "350053                hotel the best booking What's site?   \n",
       "150927                   do How I 5s? my iPhone jailbreak   \n",
       "\n",
       "                                          jumb_Sentence-3  \n",
       "224043  Is there a difference mini \"native\" mini betwe...  \n",
       "383397  Can you still day pregnant one before menstrua...  \n",
       "332701  How the is? of know what do temperature really...  \n",
       "350053                best booking What's site? the hotel  \n",
       "150927                   How jailbreak I my iPhone do 5s?  "
      ]
     },
     "execution_count": 46,
     "metadata": {},
     "output_type": "execute_result"
    }
   ],
   "source": [
    "jumb_data_qqp.head()"
   ]
  },
  {
   "cell_type": "code",
   "execution_count": 47,
   "metadata": {},
   "outputs": [],
   "source": [
    "anto_data_qqp.to_csv(r\"C:\\Users\\lenovo\\OneDrive - Auburn University\\BDI Lab work\\Paraphrase Project\\Results\\Jumbling\\QQp_jumbled_dataset.csv\")"
   ]
  },
  {
   "cell_type": "code",
   "execution_count": null,
   "metadata": {},
   "outputs": [],
   "source": []
  }
 ],
 "metadata": {
  "interpreter": {
   "hash": "445008aef75f8a681a37ec417fc10da0b0223a565823ee726d94afc018b22edb"
  },
  "kernelspec": {
   "display_name": "Python 3.7.3 ('base')",
   "language": "python",
   "name": "python3"
  },
  "language_info": {
   "codemirror_mode": {
    "name": "ipython",
    "version": 3
   },
   "file_extension": ".py",
   "mimetype": "text/x-python",
   "name": "python",
   "nbconvert_exporter": "python",
   "pygments_lexer": "ipython3",
   "version": "3.7.3"
  },
  "orig_nbformat": 4
 },
 "nbformat": 4,
 "nbformat_minor": 2
}
